{
 "cells": [
  {
   "cell_type": "code",
   "execution_count": 1,
   "id": "f8cfb6fb",
   "metadata": {},
   "outputs": [],
   "source": [
    "from IPython.display import clear_output"
   ]
  },
  {
   "cell_type": "code",
   "execution_count": 2,
   "id": "6bf554e9",
   "metadata": {},
   "outputs": [],
   "source": [
    "def display_board(board):\n",
    "    clear_output()\n",
    "    for i in range(9,0,-3):\n",
    "        print('{0:^3}|{1:^3}|{2:^3}'.format(game_board[i-2],game_board[i-1],game_board[i]))\n",
    "        if i>3:\n",
    "            print('-----------')"
   ]
  },
  {
   "cell_type": "code",
   "execution_count": 3,
   "id": "e9dd39ea",
   "metadata": {},
   "outputs": [],
   "source": [
    "def decide_marker():\n",
    " #   player1_marker = None\n",
    "    marker = None\n",
    "    while marker not in ['X','O']: \n",
    "\n",
    "        marker = input(\"Choose a symbol between (X,O) : \").upper()\n",
    "        \n",
    "        \n",
    "    '''if player1_marker=='X':\n",
    "        player2_marker = 'O'\n",
    "    else:\n",
    "        player2_marker = 'X'\n",
    "        \n",
    "    return player1_marker,player2_marker\n",
    "    '''\n",
    "    if marker == 'X':\n",
    "        return ('X','O')\n",
    "    else:\n",
    "        return ('O','X')"
   ]
  },
  {
   "cell_type": "code",
   "execution_count": 4,
   "id": "a9301189",
   "metadata": {},
   "outputs": [],
   "source": [
    "#function to place the marker at a given position.\n",
    "def place_marker(board,marker,position):\n",
    "    board[position] = marker"
   ]
  },
  {
   "cell_type": "code",
   "execution_count": 5,
   "id": "d2d0a37e",
   "metadata": {},
   "outputs": [],
   "source": [
    "def check_win(board,marker):\n",
    "    #check rows\n",
    "    return (board[7]==board[8]==board[9]==marker or\n",
    "            board[4]==board[5]==board[6]==marker or\n",
    "            board[1]==board[2]==board[3]==marker or\n",
    "    #check columns.\n",
    "            board[7]==board[4]==board[1]==marker or\n",
    "            board[8]==board[5]==board[2]==marker or\n",
    "            board[9]==board[6]==board[3]==marker or\n",
    "    #check diagonally.\n",
    "            board[7]==board[5]==board[3]==marker or\n",
    "            board[9]==board[5]==board[1]==marker)"
   ]
  },
  {
   "cell_type": "code",
   "execution_count": 6,
   "id": "18560097",
   "metadata": {},
   "outputs": [],
   "source": [
    "def space_check(board,position):\n",
    "    return board[position] == ' '"
   ]
  },
  {
   "cell_type": "code",
   "execution_count": 7,
   "id": "3650ffdf",
   "metadata": {},
   "outputs": [],
   "source": [
    "def full_board_check(board):\n",
    "    for i in range(1,len(board)):\n",
    "        if space_check(game_board,i)==True:\n",
    "            return False\n",
    "    #board is full.\n",
    "    return True\n"
   ]
  },
  {
   "cell_type": "code",
   "execution_count": 8,
   "id": "a4063086",
   "metadata": {},
   "outputs": [],
   "source": [
    "def position(board):\n",
    "    posi = 0\n",
    "    while posi not in range(1,10) or not space_check(board,posi): \n",
    "        posi = int(input(\"choose a position : (1,9) = \"))\n",
    "                \n",
    "    return posi"
   ]
  },
  {
   "cell_type": "code",
   "execution_count": 9,
   "id": "c0bd1dfe",
   "metadata": {},
   "outputs": [],
   "source": [
    "def choose_first():\n",
    "    import random\n",
    "    toss = random.randint(0,1)\n",
    "    \n",
    "    if toss == 0:\n",
    "        return 'Player1'\n",
    "    else:\n",
    "        return 'Player2'"
   ]
  },
  {
   "cell_type": "code",
   "execution_count": 10,
   "id": "fa88ed2c",
   "metadata": {},
   "outputs": [],
   "source": [
    "def play_again():\n",
    "    ask = input(\"Want to play again? yes or no = \")\n",
    "    \n",
    "    return ask == 'yes'"
   ]
  },
  {
   "cell_type": "code",
   "execution_count": 11,
   "id": "beafff02",
   "metadata": {},
   "outputs": [],
   "source": [
    "print(\"Welcome to tic tac toe game!\")\n",
    "\n",
    "while True:\n",
    "    #make board\n",
    "    game_board = [' ']*10\n",
    "\n",
    "    #marker \n",
    "    player1_marker,player2_marker = decide_marker()\n",
    "    \n",
    "    #choose First.\n",
    "    turn = choose_first()\n",
    "    print(f'{turn} will go first')\n",
    "    \n",
    "    #ask to play.\n",
    "    choice = input(\"Are you ready to play? y or n = \")\n",
    "    \n",
    "    if choice=='y':\n",
    "        game_on = True\n",
    "    else:\n",
    "        game_on = False\n",
    "        \n",
    "    while game_on:\n",
    "        \n",
    "        if turn == 'Player1':\n",
    "            \n",
    "            #display board\n",
    "            display_board(game_board)\n",
    "       \n",
    "            print(f'Player1 turn is ongoing , marker : {player1_marker}')\n",
    "            #ask for postion.\n",
    "            player1_pos = position(game_board)\n",
    "            #place marker.\n",
    "            place_marker(game_board,player1_marker,player1_pos)\n",
    "           \n",
    "            #check for win.\n",
    "            if check_win(game_board,player1_marker)==True:\n",
    "                print(\"Player1 wins the game.\")\n",
    "                game_on = False\n",
    "            #check for tie \n",
    "            if full_board_check(game_board)==True:\n",
    "                print(\"Tie Game!\")\n",
    "                game_on = False\n",
    "            else:\n",
    "                turn = 'Player2'\n",
    "        \n",
    "        else:\n",
    "            \n",
    "            display board\n",
    "            display_board(game_board)\n",
    "            \n",
    "            print(f'Player2 turn is ongoing , marker : {player2_marker}')\n",
    "            #ask for postion.\n",
    "            player2_pos = position(game_board)\n",
    "            #place marker.\n",
    "            place_marker(game_board,player2_marker,player2_pos)\n",
    "            \n",
    "            #check for win.\n",
    "            if check_win(game_board,player2_marker)==True:\n",
    "                print(\"Player2 wins the game.\")\n",
    "                game_on = False\n",
    "            #check for tie \n",
    "            if full_board_check(game_board)==True:\n",
    "                print(\"Tie Game!\")\n",
    "                game_on = False\n",
    "            else:\n",
    "                turn = 'Player1'\n",
    "    \n",
    "    if play_again()==True:\n",
    "        continue\n",
    "    else:\n",
    "        break"
   ]
  }
 ],
 "metadata": {
  "kernelspec": {
   "display_name": "Python 3",
   "language": "python",
   "name": "python3"
  },
  "language_info": {
   "codemirror_mode": {
    "name": "ipython",
    "version": 3
   },
   "file_extension": ".py",
   "mimetype": "text/x-python",
   "name": "python",
   "nbconvert_exporter": "python",
   "pygments_lexer": "ipython3",
   "version": "3.8.8"
  }
 },
 "nbformat": 4,
 "nbformat_minor": 5
}
